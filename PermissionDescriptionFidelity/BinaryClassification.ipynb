{
 "cells": [
  {
   "cell_type": "code",
   "execution_count": 1,
   "metadata": {},
   "outputs": [],
   "source": [
    "import sys\n",
    "import os\n",
    "import csv\n",
    "import random\n",
    "\n",
    "import scipy\n",
    "import pandas as pd\n",
    "import numpy as np\n",
    "\n",
    "import torch\n",
    "import torch.nn as nn\n",
    "import torch.nn.init as init\n",
    "from torch import optim\n",
    "\n",
    "from utils.io_utils import IOUtils\n",
    "from utils.nlp_utils import NLPUtils\n",
    "\n",
    "seed = 10\n",
    "\n",
    "random.seed(seed)\n",
    "torch.manual_seed(seed)\n",
    "np.random.seed(seed)"
   ]
  },
  {
   "cell_type": "code",
   "execution_count": 2,
   "metadata": {},
   "outputs": [],
   "source": [
    "get_ipython().run_line_magic('load_ext', 'autoreload')\n",
    "get_ipython().run_line_magic('autoreload', '2')\n",
    "\n",
    "class ArgumentParser():\n",
    "    permission_type = \"READ_CONTACTS\"\n",
    "    train = \"/home/huseyinalecakir/Security/data/acnet-data/ACNET_DATASET.csv\"\n",
    "    train_file_type = \"acnet\"\n",
    "    external_embedding = \"/home/huseyinalecakir/Security/data/pretrained-embeddings/{}\".format(\"scraped_with_porter_stemming_300.bin\")\n",
    "    external_embedding_type = \"word2vec\"\n",
    "    #wembedding_dims = 300\n",
    "    #lstm_dims = 128\n",
    "    stemmer = \"porter\"\n",
    "    saved_parameters_dir = \"/home/huseyinalecakir/Security/data/saved-parameters/\"\n",
    "    saved_prevectors = \"embeddings.pickle\"\n",
    "    saved_vocab_train = \"acnet-vocab.txt\"\n",
    "    lower = True\n",
    "    outdir = \"./test/{}\".format(permission_type)"
   ]
  },
  {
   "cell_type": "code",
   "execution_count": 3,
   "metadata": {},
   "outputs": [],
   "source": [
    "class TorchOptions():\n",
    "    def __init__(self):\n",
    "        self.rnn_size = 300\n",
    "        self.init_weight = 0.08\n",
    "        self.decay_rate = 0.985\n",
    "        self.learning_rate = 0.01\n",
    "        self.plot_every = 2500\n",
    "        self.print_every = 2500\n",
    "        self.grad_clip = 5\n",
    "        self.dropout = 0\n",
    "        self.dropoutrec = 0\n",
    "        self.learning_rate_decay = 0.985\n",
    "        self.learning_rate_decay_after = 5 "
   ]
  },
  {
   "cell_type": "code",
   "execution_count": 4,
   "metadata": {},
   "outputs": [],
   "source": [
    "class SentenceReport:\n",
    "    \"\"\"TODO\"\"\"\n",
    "    def __init__(self, id, sentence, mark):\n",
    "        self.app_id = id\n",
    "        self.mark = mark\n",
    "        self.preprocessed_sentence = None\n",
    "        self.sentence = sentence\n",
    "        self.prediction_result = None\n",
    "        self.index_tensors = None"
   ]
  },
  {
   "cell_type": "code",
   "execution_count": null,
   "metadata": {},
   "outputs": [],
   "source": [
    "def load_row_acnet(infile, gold_permission, stemmer, embeddings):\n",
    "    print(\"Loading row {} \".format(infile))\n",
    "    #read training data\n",
    "    print(\"Reading Train Sentences\")\n",
    "    tagged_train_file = pd.read_csv(infile)\n",
    "    train_sententence_reports = []\n",
    "    acnet_map = {\"RECORD_AUDIO\" : \"MICROPHONE\", \"READ_CONTACTS\": \"CONTACTS\", \"READ_CALENDAR\": \"CALENDAR\", \"ACCESS_FINE_LOCATION\" : \"LOCATION\" ,\n",
    "    \"CAMERA\" : \"CAMERA\", \"READ_SMS\" : \"SMS\", \"READ_CALL_LOGS\" : \"CALL_LOG\", \"CALL_PHONE\" : \"PHONE\" , \"WRITE_SETTINGS\" : \"SETTINGS\" ,\n",
    "    \"GET_TASKS\" : \"TASKS\"}\n",
    "    for idx, row in tagged_train_file.iterrows():\n",
    "        app_id = int(row[\"app_id\"])\n",
    "        sentence = row[\"sentence\"]\n",
    "        mark = row[acnet_map[gold_permission]]\n",
    "        sentence_report = SentenceReport(app_id, sentence, mark)\n",
    "        preprocessed = NLPUtils.preprocess_sentence(sentence_report.sentence, stemmer)\n",
    "        sentence_report.preprocessed_sentence = [word for word in preprocessed if word in embeddings]\n",
    "        train_sententence_reports.append(sentence_report)\n",
    "    print(\"Loading completed\")\n",
    "    return train_sententence_reports"
   ]
  },
  {
   "cell_type": "code",
   "execution_count": null,
   "metadata": {},
   "outputs": [],
   "source": [
    "class LSTM(nn.Module):\n",
    "    def __init__(self, opt):\n",
    "        super(LSTM, self).__init__()\n",
    "        self.opt = opt\n",
    "        self.i2h = nn.Linear(opt.rnn_size, 4 * opt.rnn_size)\n",
    "        self.h2h = nn.Linear(opt.rnn_size, 4 * opt.rnn_size)\n",
    "        if opt.dropoutrec > 0:\n",
    "            self.dropout = nn.Dropout(opt.dropoutrec)\n",
    "            \n",
    "    def forward(self, x, prev_c, prev_h):\n",
    "        gates = self.i2h(x) + self.h2h(prev_h)\n",
    "        ingate, forgetgate, cellgate, outgate = gates.chunk(4, 1)\n",
    "        ingate = torch.sigmoid(ingate)\n",
    "        forgetgate = torch.sigmoid(forgetgate)\n",
    "        cellgate = torch.tanh(cellgate)\n",
    "        outgate = torch.sigmoid(outgate)\n",
    "        if self.opt.dropoutrec > 0:\n",
    "            cellgate = self.dropout(cellgate)\n",
    "        cy = (forgetgate * prev_c) + (ingate * cellgate)\n",
    "        hy = outgate * torch.tanh(cy)  # n_b x hidden_dim\n",
    "        return cy, hy"
   ]
  },
  {
   "cell_type": "code",
   "execution_count": null,
   "metadata": {},
   "outputs": [],
   "source": [
    "class Encoder(nn.Module):\n",
    "    def __init__(self, opt, w2i, ext_embeddings):\n",
    "        super(Encoder, self).__init__()\n",
    "        self.opt = opt\n",
    "        self.w2i = w2i\n",
    "        self.hidden_size = opt.rnn_size\n",
    "        \n",
    "        self.embedding = nn.Embedding(len(w2i), self.hidden_size)\n",
    "        self.lstm = LSTM(self.opt)\n",
    "        if opt.dropout > 0:\n",
    "            self.dropout = nn.Dropout(opt.dropout)\n",
    "        self.__initParameters()\n",
    "        self.__initalizedPretrainedEmbeddings(ext_embeddings)\n",
    "\n",
    "    def __initParameters(self):\n",
    "        for name, param in self.named_parameters():\n",
    "            if param.requires_grad:\n",
    "                init.uniform_(param, -opt.init_weight, opt.init_weight)\n",
    "                \n",
    "    def __initalizedPretrainedEmbeddings(self, embeddings):\n",
    "        weights_matrix = np.zeros(((len(self.w2i), self.hidden_size)))\n",
    "        \n",
    "        for word in self.w2i:\n",
    "            weights_matrix[self.w2i[word]] = embeddings[word]\n",
    "        self.embedding.from_pretrained(torch.FloatTensor(weights_matrix))\n",
    "        \n",
    "    def forward(self, input_src, prev_c, prev_h):\n",
    "        src_emb = self.embedding(input_src) # batch_size x src_length x emb_size\n",
    "        if self.opt.dropout > 0:\n",
    "            src_emb = self.dropout(src_emb)\n",
    "        prev_cy, prev_hy = self.lstm(src_emb, prev_c, prev_h)\n",
    "        return prev_cy, prev_hy"
   ]
  },
  {
   "cell_type": "code",
   "execution_count": null,
   "metadata": {},
   "outputs": [],
   "source": [
    "class Classifier(nn.Module):\n",
    "    def __init__(self, opt, output_size):\n",
    "        super(Classifier, self).__init__()\n",
    "        self.opt = opt\n",
    "        self.hidden_size = opt.rnn_size\n",
    "        self.linear = nn.Linear(self.hidden_size, output_size)\n",
    "        \n",
    "        if opt.dropout > 0:\n",
    "            self.dropout = nn.Dropout(opt.dropout)\n",
    "        \n",
    "        self.sigmoid = nn.Sigmoid()\n",
    "        self.__initParameters()\n",
    "        \n",
    "    def __initParameters(self):\n",
    "        for name, param in self.named_parameters():\n",
    "            if param.requires_grad:\n",
    "                init.uniform_(param, -opt.init_weight, opt.init_weight)\n",
    "         \n",
    "    def forward(self, prev_h):\n",
    "\n",
    "        if self.opt.dropout > 0:\n",
    "            prev_h = self.dropout(prev_h)\n",
    "        h2y = self.linear(prev_h)\n",
    "        pred = self.sigmoid(h2y)\n",
    "        return pred"
   ]
  },
  {
   "cell_type": "code",
   "execution_count": null,
   "metadata": {},
   "outputs": [],
   "source": [
    "def create_index_tensors(data, w2i):\n",
    "    for sentence_report in data:\n",
    "        sentence_report.index_tensor = torch.zeros((1, len(sentence_report.preprocessed_sentence)), dtype=torch.long)\n",
    "        for idx, word in enumerate(sentence_report.preprocessed_sentence):\n",
    "            sentence_report.index_tensor[0][idx] = w2i[word]"
   ]
  },
  {
   "cell_type": "code",
   "execution_count": null,
   "metadata": {},
   "outputs": [],
   "source": [
    "def load_embeddings(options):\n",
    "    if options.external_embedding is not None:\n",
    "        if os.path.isfile(os.path.join(options.saved_parameters_dir,\n",
    "                                       options.saved_prevectors)):\n",
    "            ext_embeddings, _ = IOUtils.load_embeddings_file(os.path.join(options.saved_parameters_dir,\n",
    "                                                                        options.saved_prevectors),\n",
    "                                                          \"pickle\",\n",
    "                                                          options.lower)\n",
    "            return ext_embeddings\n",
    "        else:\n",
    "            ext_embeddings, _ = IOUtils.load_embeddings_file(options.external_embedding,\n",
    "                                                          options.external_embedding_type,\n",
    "                                                          options.lower)\n",
    "            IOUtils.save_embeddings(os.path.join(options.saved_parameters_dir,\n",
    "                                                 options.saved_prevectors),\n",
    "                                    ext_embeddings)\n",
    "            return ext_embeddings\n",
    "    else:\n",
    "        raise Exception(\"external_embedding option is None\")"
   ]
  },
  {
   "cell_type": "code",
   "execution_count": null,
   "metadata": {},
   "outputs": [],
   "source": [
    "def trainItem(opt, sentence, encoder, classifier, encoder_optimizer, classifier_optimizer, criterion):\n",
    "    encoder_optimizer.zero_grad()\n",
    "    classifier_optimizer.zero_grad()\n",
    "    c = torch.zeros((1, opt.rnn_size), dtype=torch.float, requires_grad=True)\n",
    "    h = torch.zeros((1, opt.rnn_size), dtype=torch.float, requires_grad=True)\n",
    "    for i in range(sentence.index_tensor.size(1)):\n",
    "        c, h = encoder(sentence.index_tensor[:, i], c, h)\n",
    "\n",
    "    pred = classifier(h)\n",
    "    loss = criterion(pred, torch.tensor([[sentence.mark]], dtype=torch.float))\n",
    "    loss.backward()\n",
    "    if opt.grad_clip != -1:\n",
    "        torch.nn.utils.clip_grad_value_(encoder.parameters(),opt.grad_clip)\n",
    "        torch.nn.utils.clip_grad_value_(classifier.parameters(),opt.grad_clip)\n",
    "    encoder_optimizer.step()\n",
    "    classifier_optimizer.step()\n",
    "    \n",
    "    return loss"
   ]
  },
  {
   "cell_type": "code",
   "execution_count": null,
   "metadata": {},
   "outputs": [],
   "source": [
    "def predict(opt, sentence, encoder, classifier):\n",
    "    c = torch.zeros((1, opt.rnn_size), dtype=torch.float, requires_grad=True)\n",
    "    h = torch.zeros((1, opt.rnn_size), dtype=torch.float, requires_grad=True)\n",
    "\n",
    "    for i in range(sentence.index_tensor.size(1)):\n",
    "        c, h = encoder(sentence.index_tensor[:, i], c, h)\n",
    "\n",
    "    pred = classifier(h)\n",
    "    return pred"
   ]
  },
  {
   "cell_type": "code",
   "execution_count": null,
   "metadata": {},
   "outputs": [],
   "source": [
    "args = ArgumentParser()\n",
    "opt = TorchOptions()"
   ]
  },
  {
   "cell_type": "code",
   "execution_count": null,
   "metadata": {},
   "outputs": [],
   "source": [
    "ext_embeddings = load_embeddings(args)\n",
    "ext_embeddings[\"contacts\"] = ext_embeddings[\"contact\"] #contacts  embedding ini sonradan eklemem gerekiyor. Vocab olusturma asamasinda guncelleme yap."
   ]
  },
  {
   "cell_type": "code",
   "execution_count": null,
   "metadata": {},
   "outputs": [
    {
     "name": "stdout",
     "output_type": "stream",
     "text": [
      "Extracting training vocabulary\n",
      "Saved vocab exists\n",
      "\n"
     ]
    }
   ],
   "source": [
    "print('Extracting training vocabulary')\n",
    "w2i, _ = IOUtils.load_vocab(args.train,\n",
    "                            args.train_file_type,\n",
    "                            args.saved_parameters_dir,\n",
    "                            args.saved_vocab_train,\n",
    "                            args.external_embedding,\n",
    "                            args.external_embedding_type,\n",
    "                            args.stemmer,\n",
    "                            args.lower)"
   ]
  },
  {
   "cell_type": "code",
   "execution_count": null,
   "metadata": {},
   "outputs": [
    {
     "name": "stdout",
     "output_type": "stream",
     "text": [
      "Loading row /home/huseyinalecakir/Security/data/acnet-data/ACNET_DATASET.csv \n",
      "Reading Train Sentences\n"
     ]
    }
   ],
   "source": [
    "sentences = load_row_acnet(args.train,  args.permission_type, args.stemmer, ext_embeddings)\n"
   ]
  },
  {
   "cell_type": "code",
   "execution_count": 21,
   "metadata": {},
   "outputs": [],
   "source": [
    "create_index_tensors(sentences, w2i)"
   ]
  },
  {
   "cell_type": "code",
   "execution_count": 25,
   "metadata": {},
   "outputs": [],
   "source": [
    "def train_and_test(opt, epoch_num, w2i, train_sentences, test_sentences, fp):\n",
    "    random.seed(seed)\n",
    "    torch.manual_seed(seed)\n",
    "    np.random.seed(seed)\n",
    "    encoder = Encoder(opt, w2i, ext_embeddings)\n",
    "    classifier = Classifier(opt, 1) \n",
    "\n",
    "    optim_state = {\"learningRate\" : opt.learning_rate, \"alpha\" :  opt.decay_rate}\n",
    "    encoder_optimizer = optim.RMSprop(encoder.parameters(),  lr=optim_state[\"learningRate\"], alpha=optim_state[\"alpha\"])\n",
    "    classifier_optimizer = optim.RMSprop(classifier.parameters(),  lr=optim_state[\"learningRate\"], alpha=optim_state[\"alpha\"])\n",
    "    criterion = nn.BCELoss()\n",
    "    \n",
    "    pr_scores = []\n",
    "    roc_scores = []\n",
    "    losses = []\n",
    "\n",
    "    for epoch in range(epoch_num):\n",
    "        fp.write(\"\\n---Epoch {}---\\n\".format(epoch+1))\n",
    "        print(\"---Epoch {}---\\n\".format(epoch+1))\n",
    "        \n",
    "        print(\"Training...\")\n",
    "        fp.write(\"Training...\\n\")\n",
    "        encoder.train()\n",
    "        classifier.train()\n",
    "        for index, sentence in enumerate(train_data):\n",
    "            loss = trainItem(opt, sentence, encoder, classifier, encoder_optimizer, classifier_optimizer, criterion)\n",
    "            if index != 0:\n",
    "                if index % opt.print_every == 0:\n",
    "                    fp.write(\"Index {} Loss {}\\n\".format(index,np.mean(losses[epoch*len(train_data)+index-opt.print_every:])))\n",
    "                    #print(\"Index {} Loss {}\".format(index,np.mean(losses[epoch*len(train_data)+index-opt.print_every:])))\n",
    "            losses.append(loss.item())\n",
    "        \n",
    "        # Learning Rate Decay Optimization\n",
    "        if opt.learning_rate_decay < 1:\n",
    "            if epoch >= opt.learning_rate_decay_after:\n",
    "                decay_factor = opt.learning_rate_decay\n",
    "                optim_state[\"learningRate\"] = optim_state[\"learningRate\"] * decay_factor \n",
    "                for param_group in encoder_optimizer.param_groups:\n",
    "                    param_group['lr'] = optim_state[\"learningRate\"]\n",
    "                for param_group in classifier_optimizer.param_groups:\n",
    "                    param_group['lr'] = optim_state[\"learningRate\"]\n",
    "        \n",
    "        print(\"Predicting..\")     \n",
    "        fp.write(\"Predicting..\\n\")\n",
    "        encoder.eval()\n",
    "        classifier.eval()\n",
    "        predictions = []\n",
    "        gold = []\n",
    "        with torch.no_grad():\n",
    "            for index, sentence in enumerate(test_data):\n",
    "                pred = predict(opt, sentence, encoder, classifier)\n",
    "                predictions.append(pred)\n",
    "                gold.append(sentence.mark)\n",
    "\n",
    "        y_true = np.array(gold)\n",
    "        y_scores = np.array(predictions)\n",
    "        roc_auc = roc_auc_score(y_true, y_scores)\n",
    "        pr_auc = average_precision_score(y_true, y_scores)\n",
    "        pr_scores.append(pr_auc)\n",
    "        roc_scores.append(roc_auc)\n",
    "        fp.write(\"Scores ROC {} PR {}\\n\".format(roc_auc, pr_auc))\n",
    "        #print(\"Scores ROC {} PR {}\".format(roc_auc, pr_auc))\n",
    "    return roc_scores, pr_scores"
   ]
  },
  {
   "cell_type": "code",
   "execution_count": 22,
   "metadata": {},
   "outputs": [],
   "source": [
    "from sklearn.metrics import roc_auc_score, average_precision_score\n",
    "from sklearn.model_selection import KFold\n",
    "\n",
    "documents = np.array(sentences)\n",
    "random.shuffle(documents)\n",
    "\n",
    "random.seed(seed)\n",
    "torch.manual_seed(seed)\n",
    "np.random.seed(seed)\n",
    "\n",
    "\n",
    "\n",
    "    "
   ]
  },
  {
   "cell_type": "code",
   "execution_count": 23,
   "metadata": {},
   "outputs": [
    {
     "data": {
      "text/plain": [
       "24724"
      ]
     },
     "execution_count": 23,
     "metadata": {},
     "output_type": "execute_result"
    }
   ],
   "source": [
    "len(sentences)"
   ]
  },
  {
   "cell_type": "code",
   "execution_count": 29,
   "metadata": {},
   "outputs": [
    {
     "name": "stdout",
     "output_type": "stream",
     "text": [
      "---Epoch 1---\n",
      "\n",
      "Training...\n"
     ]
    },
    {
     "ename": "KeyboardInterrupt",
     "evalue": "",
     "output_type": "error",
     "traceback": [
      "\u001b[0;31m---------------------------------------------------------------------------\u001b[0m",
      "\u001b[0;31mKeyboardInterrupt\u001b[0m                         Traceback (most recent call last)",
      "\u001b[0;32m<ipython-input-29-265486704699>\u001b[0m in \u001b[0;36m<module>\u001b[0;34m\u001b[0m\n\u001b[1;32m     13\u001b[0m     \u001b[0mtest_data\u001b[0m \u001b[0;34m=\u001b[0m \u001b[0mdocuments\u001b[0m\u001b[0;34m[\u001b[0m\u001b[0mtest\u001b[0m\u001b[0;34m]\u001b[0m\u001b[0;34m\u001b[0m\u001b[0;34m\u001b[0m\u001b[0m\n\u001b[1;32m     14\u001b[0m \u001b[0;34m\u001b[0m\u001b[0m\n\u001b[0;32m---> 15\u001b[0;31m     \u001b[0mroc\u001b[0m\u001b[0;34m,\u001b[0m \u001b[0mpr\u001b[0m \u001b[0;34m=\u001b[0m \u001b[0mtrain_and_test\u001b[0m\u001b[0;34m(\u001b[0m\u001b[0mopt\u001b[0m\u001b[0;34m,\u001b[0m \u001b[0;36m1\u001b[0m\u001b[0;34m,\u001b[0m \u001b[0mw2i\u001b[0m\u001b[0;34m,\u001b[0m \u001b[0mtrain_data\u001b[0m\u001b[0;34m,\u001b[0m \u001b[0mtest_data\u001b[0m\u001b[0;34m,\u001b[0m \u001b[0mfile\u001b[0m\u001b[0;34m)\u001b[0m\u001b[0;34m\u001b[0m\u001b[0;34m\u001b[0m\u001b[0m\n\u001b[0m\u001b[1;32m     16\u001b[0m     \u001b[0mfile\u001b[0m\u001b[0;34m.\u001b[0m\u001b[0mwrite\u001b[0m\u001b[0;34m(\u001b[0m\u001b[0;34m\"Fold Results :\\n\"\u001b[0m\u001b[0;34m)\u001b[0m\u001b[0;34m\u001b[0m\u001b[0;34m\u001b[0m\u001b[0m\n\u001b[1;32m     17\u001b[0m     \u001b[0mfile\u001b[0m\u001b[0;34m.\u001b[0m\u001b[0mwrite\u001b[0m\u001b[0;34m(\u001b[0m\u001b[0;34m\"ROC :\"\u001b[0m\u001b[0;34m,\u001b[0m \u001b[0mroc\u001b[0m\u001b[0;34m)\u001b[0m\u001b[0;34m\u001b[0m\u001b[0;34m\u001b[0m\u001b[0m\n",
      "\u001b[0;32m<ipython-input-25-d68ee65cabf5>\u001b[0m in \u001b[0;36mtrain_and_test\u001b[0;34m(opt, epoch_num, w2i, train_sentences, test_sentences, fp)\u001b[0m\n\u001b[1;32m     23\u001b[0m         \u001b[0mclassifier\u001b[0m\u001b[0;34m.\u001b[0m\u001b[0mtrain\u001b[0m\u001b[0;34m(\u001b[0m\u001b[0;34m)\u001b[0m\u001b[0;34m\u001b[0m\u001b[0;34m\u001b[0m\u001b[0m\n\u001b[1;32m     24\u001b[0m         \u001b[0;32mfor\u001b[0m \u001b[0mindex\u001b[0m\u001b[0;34m,\u001b[0m \u001b[0msentence\u001b[0m \u001b[0;32min\u001b[0m \u001b[0menumerate\u001b[0m\u001b[0;34m(\u001b[0m\u001b[0mtrain_data\u001b[0m\u001b[0;34m)\u001b[0m\u001b[0;34m:\u001b[0m\u001b[0;34m\u001b[0m\u001b[0;34m\u001b[0m\u001b[0m\n\u001b[0;32m---> 25\u001b[0;31m             \u001b[0mloss\u001b[0m \u001b[0;34m=\u001b[0m \u001b[0mtrainItem\u001b[0m\u001b[0;34m(\u001b[0m\u001b[0mopt\u001b[0m\u001b[0;34m,\u001b[0m \u001b[0msentence\u001b[0m\u001b[0;34m,\u001b[0m \u001b[0mencoder\u001b[0m\u001b[0;34m,\u001b[0m \u001b[0mclassifier\u001b[0m\u001b[0;34m,\u001b[0m \u001b[0mencoder_optimizer\u001b[0m\u001b[0;34m,\u001b[0m \u001b[0mclassifier_optimizer\u001b[0m\u001b[0;34m,\u001b[0m \u001b[0mcriterion\u001b[0m\u001b[0;34m)\u001b[0m\u001b[0;34m\u001b[0m\u001b[0;34m\u001b[0m\u001b[0m\n\u001b[0m\u001b[1;32m     26\u001b[0m             \u001b[0;32mif\u001b[0m \u001b[0mindex\u001b[0m \u001b[0;34m!=\u001b[0m \u001b[0;36m0\u001b[0m\u001b[0;34m:\u001b[0m\u001b[0;34m\u001b[0m\u001b[0;34m\u001b[0m\u001b[0m\n\u001b[1;32m     27\u001b[0m                 \u001b[0;32mif\u001b[0m \u001b[0mindex\u001b[0m \u001b[0;34m%\u001b[0m \u001b[0mopt\u001b[0m\u001b[0;34m.\u001b[0m\u001b[0mprint_every\u001b[0m \u001b[0;34m==\u001b[0m \u001b[0;36m0\u001b[0m\u001b[0;34m:\u001b[0m\u001b[0;34m\u001b[0m\u001b[0;34m\u001b[0m\u001b[0m\n",
      "\u001b[0;32m<ipython-input-11-eca863a3c196>\u001b[0m in \u001b[0;36mtrainItem\u001b[0;34m(opt, sentence, encoder, classifier, encoder_optimizer, classifier_optimizer, criterion)\u001b[0m\n\u001b[1;32m      9\u001b[0m     \u001b[0mpred\u001b[0m \u001b[0;34m=\u001b[0m \u001b[0mclassifier\u001b[0m\u001b[0;34m(\u001b[0m\u001b[0mh\u001b[0m\u001b[0;34m)\u001b[0m\u001b[0;34m\u001b[0m\u001b[0;34m\u001b[0m\u001b[0m\n\u001b[1;32m     10\u001b[0m     \u001b[0mloss\u001b[0m \u001b[0;34m=\u001b[0m \u001b[0mcriterion\u001b[0m\u001b[0;34m(\u001b[0m\u001b[0mpred\u001b[0m\u001b[0;34m,\u001b[0m \u001b[0mtorch\u001b[0m\u001b[0;34m.\u001b[0m\u001b[0mtensor\u001b[0m\u001b[0;34m(\u001b[0m\u001b[0;34m[\u001b[0m\u001b[0;34m[\u001b[0m\u001b[0msentence\u001b[0m\u001b[0;34m.\u001b[0m\u001b[0mmark\u001b[0m\u001b[0;34m]\u001b[0m\u001b[0;34m]\u001b[0m\u001b[0;34m,\u001b[0m \u001b[0mdtype\u001b[0m\u001b[0;34m=\u001b[0m\u001b[0mtorch\u001b[0m\u001b[0;34m.\u001b[0m\u001b[0mfloat\u001b[0m\u001b[0;34m)\u001b[0m\u001b[0;34m)\u001b[0m\u001b[0;34m\u001b[0m\u001b[0;34m\u001b[0m\u001b[0m\n\u001b[0;32m---> 11\u001b[0;31m     \u001b[0mloss\u001b[0m\u001b[0;34m.\u001b[0m\u001b[0mbackward\u001b[0m\u001b[0;34m(\u001b[0m\u001b[0;34m)\u001b[0m\u001b[0;34m\u001b[0m\u001b[0;34m\u001b[0m\u001b[0m\n\u001b[0m\u001b[1;32m     12\u001b[0m     \u001b[0;32mif\u001b[0m \u001b[0mopt\u001b[0m\u001b[0;34m.\u001b[0m\u001b[0mgrad_clip\u001b[0m \u001b[0;34m!=\u001b[0m \u001b[0;34m-\u001b[0m\u001b[0;36m1\u001b[0m\u001b[0;34m:\u001b[0m\u001b[0;34m\u001b[0m\u001b[0;34m\u001b[0m\u001b[0m\n\u001b[1;32m     13\u001b[0m         \u001b[0mtorch\u001b[0m\u001b[0;34m.\u001b[0m\u001b[0mnn\u001b[0m\u001b[0;34m.\u001b[0m\u001b[0mutils\u001b[0m\u001b[0;34m.\u001b[0m\u001b[0mclip_grad_value_\u001b[0m\u001b[0;34m(\u001b[0m\u001b[0mencoder\u001b[0m\u001b[0;34m.\u001b[0m\u001b[0mparameters\u001b[0m\u001b[0;34m(\u001b[0m\u001b[0;34m)\u001b[0m\u001b[0;34m,\u001b[0m\u001b[0mopt\u001b[0m\u001b[0;34m.\u001b[0m\u001b[0mgrad_clip\u001b[0m\u001b[0;34m)\u001b[0m\u001b[0;34m\u001b[0m\u001b[0;34m\u001b[0m\u001b[0m\n",
      "\u001b[0;32m~/anaconda3/lib/python3.7/site-packages/torch/tensor.py\u001b[0m in \u001b[0;36mbackward\u001b[0;34m(self, gradient, retain_graph, create_graph)\u001b[0m\n\u001b[1;32m    116\u001b[0m                 \u001b[0mproducts\u001b[0m\u001b[0;34m.\u001b[0m \u001b[0mDefaults\u001b[0m \u001b[0mto\u001b[0m\u001b[0;31m \u001b[0m\u001b[0;31m`\u001b[0m\u001b[0;31m`\u001b[0m\u001b[0;32mFalse\u001b[0m\u001b[0;31m`\u001b[0m\u001b[0;31m`\u001b[0m\u001b[0;34m.\u001b[0m\u001b[0;34m\u001b[0m\u001b[0;34m\u001b[0m\u001b[0m\n\u001b[1;32m    117\u001b[0m         \"\"\"\n\u001b[0;32m--> 118\u001b[0;31m         \u001b[0mtorch\u001b[0m\u001b[0;34m.\u001b[0m\u001b[0mautograd\u001b[0m\u001b[0;34m.\u001b[0m\u001b[0mbackward\u001b[0m\u001b[0;34m(\u001b[0m\u001b[0mself\u001b[0m\u001b[0;34m,\u001b[0m \u001b[0mgradient\u001b[0m\u001b[0;34m,\u001b[0m \u001b[0mretain_graph\u001b[0m\u001b[0;34m,\u001b[0m \u001b[0mcreate_graph\u001b[0m\u001b[0;34m)\u001b[0m\u001b[0;34m\u001b[0m\u001b[0;34m\u001b[0m\u001b[0m\n\u001b[0m\u001b[1;32m    119\u001b[0m \u001b[0;34m\u001b[0m\u001b[0m\n\u001b[1;32m    120\u001b[0m     \u001b[0;32mdef\u001b[0m \u001b[0mregister_hook\u001b[0m\u001b[0;34m(\u001b[0m\u001b[0mself\u001b[0m\u001b[0;34m,\u001b[0m \u001b[0mhook\u001b[0m\u001b[0;34m)\u001b[0m\u001b[0;34m:\u001b[0m\u001b[0;34m\u001b[0m\u001b[0;34m\u001b[0m\u001b[0m\n",
      "\u001b[0;32m~/anaconda3/lib/python3.7/site-packages/torch/autograd/__init__.py\u001b[0m in \u001b[0;36mbackward\u001b[0;34m(tensors, grad_tensors, retain_graph, create_graph, grad_variables)\u001b[0m\n\u001b[1;32m     91\u001b[0m     Variable._execution_engine.run_backward(\n\u001b[1;32m     92\u001b[0m         \u001b[0mtensors\u001b[0m\u001b[0;34m,\u001b[0m \u001b[0mgrad_tensors\u001b[0m\u001b[0;34m,\u001b[0m \u001b[0mretain_graph\u001b[0m\u001b[0;34m,\u001b[0m \u001b[0mcreate_graph\u001b[0m\u001b[0;34m,\u001b[0m\u001b[0;34m\u001b[0m\u001b[0;34m\u001b[0m\u001b[0m\n\u001b[0;32m---> 93\u001b[0;31m         allow_unreachable=True)  # allow_unreachable flag\n\u001b[0m\u001b[1;32m     94\u001b[0m \u001b[0;34m\u001b[0m\u001b[0m\n\u001b[1;32m     95\u001b[0m \u001b[0;34m\u001b[0m\u001b[0m\n",
      "\u001b[0;31mKeyboardInterrupt\u001b[0m: "
     ]
    }
   ],
   "source": [
    "kfold = KFold(10, True, 1)\n",
    "kfold_splits = kfold.split(documents)\n",
    "\n",
    "\n",
    "chunkend_losses = []\n",
    "\n",
    "roc_scores = []\n",
    "pr_scores = []\n",
    "file = open(\"out.txt\", \"w\")\n",
    "for foldid, (train, test) in enumerate(kfold_splits):\n",
    "    file.write(\"\\nFOLD ID {}\\n\".format(foldid))\n",
    "    train_data = documents[train]\n",
    "    test_data = documents[test]\n",
    "\n",
    "    roc, pr = train_and_test(opt, 1, w2i, train_data, test_data, file)\n",
    "    file.write(\"Fold Results :\\n\")\n",
    "    file.write(\"ROC :\", roc)\n",
    "    file.write(\"\\nPR : \", pr)\n",
    "    roc_scores.append(roc)\n",
    "    pr_scores.append(pr)\n",
    "file.close()"
   ]
  },
  {
   "cell_type": "code",
   "execution_count": 30,
   "metadata": {},
   "outputs": [],
   "source": [
    "!cat out.txt\n"
   ]
  },
  {
   "cell_type": "code",
   "execution_count": null,
   "metadata": {},
   "outputs": [],
   "source": [
    "c = 0\n",
    "for k in w2i:\n",
    "    if k in ext_embeddings:\n",
    "        c += 1"
   ]
  },
  {
   "cell_type": "code",
   "execution_count": null,
   "metadata": {},
   "outputs": [],
   "source": [
    "##!!!!!!!!!!ext_embeddings[\"contacts\"] = ext_embeddings[\"contact\"] "
   ]
  }
 ],
 "metadata": {
  "kernelspec": {
   "display_name": "Python 3",
   "language": "python",
   "name": "python3"
  },
  "language_info": {
   "codemirror_mode": {
    "name": "ipython",
    "version": 3
   },
   "file_extension": ".py",
   "mimetype": "text/x-python",
   "name": "python",
   "nbconvert_exporter": "python",
   "pygments_lexer": "ipython3",
   "version": "3.7.4"
  }
 },
 "nbformat": 4,
 "nbformat_minor": 2
}
