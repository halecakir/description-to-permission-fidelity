{
 "cells": [
  {
   "cell_type": "code",
   "execution_count": 5,
   "metadata": {},
   "outputs": [],
   "source": [
    "import pickle\n",
    "import os"
   ]
  },
  {
   "cell_type": "code",
   "execution_count": 50,
   "metadata": {},
   "outputs": [],
   "source": [
    "%load_ext autoreload\n",
    "%autoreload 2"
   ]
  },
  {
   "cell_type": "code",
   "execution_count": 53,
   "metadata": {},
   "outputs": [],
   "source": [
    "import common\n",
    "from utils.nlp_utils import NLPUtils\n",
    "from utils.io_utils import IOUtils"
   ]
  },
  {
   "cell_type": "code",
   "execution_count": 79,
   "metadata": {},
   "outputs": [],
   "source": [
    "class Data:\n",
    "    def __init__(self):\n",
    "        self.w2i = None\n",
    "        self.entries = None\n",
    "        self.train_entries = None\n",
    "        self.test_entries = None\n",
    "        self.ext_embedding = None\n",
    "        self.reviews = None\n",
    "        self.predicted_reviews = None\n",
    "\n",
    "    def to(self, device):\n",
    "        if self.entries:\n",
    "            for entry in self.entries:\n",
    "                entry.index_tensor = entry.index_tensor.to(device=device)\n",
    "        if self.reviews:\n",
    "            for doc_id in self.reviews:\n",
    "                for review in self.reviews[doc_id]:\n",
    "                    review.index_tensor = review.index_tensor.to(device=device)\n",
    "        if self.predicted_reviews:\n",
    "            for doc_id in self.predicted_reviews:\n",
    "                for review in self.predicted_reviews[doc_id]:\n",
    "                    review.index_tensor = review.index_tensor.to(device=device)\n",
    "\n",
    "    def load(self, infile):\n",
    "        with open(infile, \"rb\") as target:\n",
    "            self.ext_embeddings, self.entries, self.w2i = pickle.load(target)\n",
    "\n",
    "    def save_data(self, infile):\n",
    "        with open(infile, \"wb\") as target:\n",
    "            pickle.dump([self.ext_embeddings, self.entries, self.w2i], target)\n",
    "\n",
    "    def load_predicted_reviews(self, infile):\n",
    "        with open(infile, \"rb\") as target:\n",
    "            self.predicted_reviews = pickle.load(target)\n",
    "        for app_id in self.predicted_reviews.keys():\n",
    "            self.predicted_reviews[app_id].sort(\n",
    "                key=lambda x: x.prediction_result.item(), reverse=True\n",
    "            )\n",
    "\n",
    "    def load_reviews(self, infile):\n",
    "        with open(infile, \"rb\") as target:\n",
    "            self.reviews = pickle.load(target)"
   ]
  },
  {
   "cell_type": "code",
   "execution_count": 7,
   "metadata": {},
   "outputs": [],
   "source": [
    "saved_data = os.path.join(os.environ[\"SECURITY_DATASETS\"], \"saved-parameters/saved-data/emdeddings-sentences-w2i.pickle\")"
   ]
  },
  {
   "cell_type": "code",
   "execution_count": 80,
   "metadata": {},
   "outputs": [],
   "source": [
    "data = Data()\n",
    "data.load(saved_data)"
   ]
  },
  {
   "cell_type": "code",
   "execution_count": 37,
   "metadata": {},
   "outputs": [],
   "source": [
    "fasttext = IOUtils.load_embeddings_file(\"cc.en.300.bin\", \"fasttext\", True)"
   ]
  },
  {
   "cell_type": "code",
   "execution_count": null,
   "metadata": {},
   "outputs": [],
   "source": [
    "fasttext, dim = fasttext"
   ]
  },
  {
   "cell_type": "code",
   "execution_count": 81,
   "metadata": {},
   "outputs": [],
   "source": [
    "ext_embeddings = {}"
   ]
  },
  {
   "cell_type": "code",
   "execution_count": 82,
   "metadata": {},
   "outputs": [],
   "source": [
    "for entry in data.entries:\n",
    "    preprocessed = NLPUtils.preprocess_sentence(entry.sentence, \"NONE\")\n",
    "    entry.preprocessed_sentence = [word for word in preprocessed if word in fasttext]\n",
    "    for word in entry.preprocessed_sentence:\n",
    "        ext_embeddings[word] = fasttext[word]\n"
   ]
  },
  {
   "cell_type": "code",
   "execution_count": 83,
   "metadata": {},
   "outputs": [],
   "source": [
    "data.ext_embeddings = ext_embeddings"
   ]
  },
  {
   "cell_type": "code",
   "execution_count": 88,
   "metadata": {},
   "outputs": [],
   "source": [
    "w2i = {key:idx for idx,key in enumerate(list(ext_embeddings.keys()))}"
   ]
  },
  {
   "cell_type": "code",
   "execution_count": 90,
   "metadata": {},
   "outputs": [],
   "source": [
    "data.w2i = w2i"
   ]
  },
  {
   "cell_type": "code",
   "execution_count": 91,
   "metadata": {},
   "outputs": [],
   "source": [
    "fasttext_saved_data = os.path.join(os.environ[\"SECURITY_DATASETS\"], \"saved-parameters/saved-data/fasttext_emdeddings-sentences-w2i.pickle\")"
   ]
  },
  {
   "cell_type": "code",
   "execution_count": 92,
   "metadata": {},
   "outputs": [],
   "source": [
    "data.save_data(fasttext_saved_data)"
   ]
  },
  {
   "cell_type": "code",
   "execution_count": 86,
   "metadata": {},
   "outputs": [
    {
     "data": {
      "text/plain": [
       "1627124"
      ]
     },
     "execution_count": 86,
     "metadata": {},
     "output_type": "execute_result"
    }
   ],
   "source": [
    "len(fasttext)"
   ]
  },
  {
   "cell_type": "code",
   "execution_count": null,
   "metadata": {},
   "outputs": [],
   "source": []
  },
  {
   "cell_type": "code",
   "execution_count": null,
   "metadata": {},
   "outputs": [],
   "source": []
  },
  {
   "cell_type": "code",
   "execution_count": null,
   "metadata": {},
   "outputs": [],
   "source": []
  }
 ],
 "metadata": {
  "kernelspec": {
   "display_name": "Python 3",
   "language": "python",
   "name": "python3"
  },
  "language_info": {
   "codemirror_mode": {
    "name": "ipython",
    "version": 3
   },
   "file_extension": ".py",
   "mimetype": "text/x-python",
   "name": "python",
   "nbconvert_exporter": "python",
   "pygments_lexer": "ipython3",
   "version": "3.6.8"
  }
 },
 "nbformat": 4,
 "nbformat_minor": 2
}
