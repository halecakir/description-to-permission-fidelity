{
 "cells": [
  {
   "cell_type": "code",
   "execution_count": 1,
   "metadata": {},
   "outputs": [
    {
     "name": "stdout",
     "output_type": "stream",
     "text": [
      "Using the default treebank \"en_ewt\" for language \"en\".\n",
      "Use device: cpu\n",
      "---\n",
      "Loading: tokenize\n",
      "With settings: \n",
      "{'model_path': './../../data/models/en_ewt_models/en_ewt_tokenizer.pt', 'lang': 'en', 'shorthand': 'en_ewt', 'mode': 'predict'}\n",
      "---\n",
      "Loading: depparse\n",
      "With settings: \n",
      "{'model_path': './../../data/models/en_ewt_models/en_ewt_parser.pt', 'pretrain_path': './../../data/models/en_ewt_models/en_ewt.pretrain.pt', 'lang': 'en', 'shorthand': 'en_ewt', 'mode': 'predict'}\n",
      "Done loading processors!\n",
      "---\n"
     ]
    }
   ],
   "source": [
    "from utils.io_utils import IOUtils\n",
    "from utils.nlp_utils import NLPUtils\n"
   ]
  },
  {
   "cell_type": "code",
   "execution_count": 48,
   "metadata": {},
   "outputs": [],
   "source": [
    "embedding_file = \"/home/huseyin/Desktop/Security/data/saved_parameters/embeddings.pickle\"\n",
    "embedding_file_type = \"pickle\"\n",
    "saved_vocab_file = \"/home/huseyin/Desktop/Security/data/saved_parameters/vocab.txt\""
   ]
  },
  {
   "cell_type": "code",
   "execution_count": 46,
   "metadata": {},
   "outputs": [],
   "source": [
    "ext_embeddings, ext_emb_dim = IOUtils.load_embeddings_file(embedding_file,\n",
    "                                                            embedding_file_type,\n",
    "                                                            lower=True)\n",
    "    "
   ]
  },
  {
   "cell_type": "code",
   "execution_count": 7,
   "metadata": {},
   "outputs": [],
   "source": [
    "def cos_similarity(vec1, vec2):\n",
    "    from numpy import dot\n",
    "    from numpy.linalg import norm\n",
    "    normalized_similarity = (dot(vec1, vec2)/(norm(vec1)*norm(vec2)) + 1)/2\n",
    "    return normalized_similarity"
   ]
  },
  {
   "cell_type": "code",
   "execution_count": 53,
   "metadata": {},
   "outputs": [],
   "source": [
    "def read_vocab(file_name):\n",
    "    words = {}\n",
    "    with open(file_name, \"r\") as target:\n",
    "        for idx, line in enumerate(target):\n",
    "            words[line.rstrip()] = idx          \n",
    "    return words"
   ]
  },
  {
   "cell_type": "code",
   "execution_count": 54,
   "metadata": {},
   "outputs": [],
   "source": [
    "saved_vocabs = read_vocab(saved_vocab_file)\n"
   ]
  },
  {
   "cell_type": "code",
   "execution_count": 64,
   "metadata": {},
   "outputs": [
    {
     "name": "stdout",
     "output_type": "stream",
     "text": [
      "0.5814327001571655\n"
     ]
    }
   ],
   "source": [
    "source = \"read\"\n",
    "destination = \"space\"\n",
    "print(cos_similarity( ext_embeddings[source], ext_embeddings[destination])) # 0.5814327001571655"
   ]
  },
  {
   "cell_type": "code",
   "execution_count": 65,
   "metadata": {},
   "outputs": [
    {
     "name": "stdout",
     "output_type": "stream",
     "text": [
      "0.5681213513016701\n"
     ]
    }
   ],
   "source": [
    "source = \"read\"\n",
    "destination = \"efficient\"\n",
    "print(cos_similarity( ext_embeddings[source], ext_embeddings[destination])) # 0.5681213513016701"
   ]
  },
  {
   "cell_type": "code",
   "execution_count": 66,
   "metadata": {},
   "outputs": [
    {
     "name": "stdout",
     "output_type": "stream",
     "text": [
      "0.6448605805635452\n"
     ]
    }
   ],
   "source": [
    "source = [\"read\", \"calendar\"]\n",
    "destination = [\"space\", \"efficient\"]\n",
    "s = np.mean([ext_embeddings[i] for i in source], axis=0)\n",
    "d = np.mean([ext_embeddings[i] for i in destination], axis=0)\n",
    "print(cos_similarity(s, d)) # 0.6448605805635452"
   ]
  },
  {
   "cell_type": "code",
   "execution_count": 44,
   "metadata": {},
   "outputs": [
    {
     "name": "stdout",
     "output_type": "stream",
     "text": [
      "0.9519028561981489\n",
      "0.9519028561981489\n"
     ]
    }
   ],
   "source": [
    "import numpy as np\n",
    "np.random.seed(3)\n",
    "v1 = np.random.rand(10)\n",
    "other = [np.random.rand(10) for i in range(4)]\n",
    "print(cos_similarity(v1, np.sum(other, axis=0))) # prints 0.9519028561981489\n",
    "print(cos_similarity(v1, np.mean(other, axis=0))) # prints 0.9519028561981489 "
   ]
  },
  {
   "cell_type": "code",
   "execution_count": 43,
   "metadata": {},
   "outputs": [
    {
     "name": "stdout",
     "output_type": "stream",
     "text": [
      "0.9147594012808977\n",
      "0.9147594012808977\n"
     ]
    }
   ],
   "source": []
  }
 ],
 "metadata": {
  "kernelspec": {
   "display_name": "Python 3",
   "language": "python",
   "name": "python3"
  },
  "language_info": {
   "codemirror_mode": {
    "name": "ipython",
    "version": 3
   },
   "file_extension": ".py",
   "mimetype": "text/x-python",
   "name": "python",
   "nbconvert_exporter": "python",
   "pygments_lexer": "ipython3",
   "version": "3.7.2"
  }
 },
 "nbformat": 4,
 "nbformat_minor": 2
}
