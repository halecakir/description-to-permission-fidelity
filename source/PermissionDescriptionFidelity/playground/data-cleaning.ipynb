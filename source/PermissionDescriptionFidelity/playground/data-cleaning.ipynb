{
 "cells": [
  {
   "cell_type": "code",
   "execution_count": 2,
   "metadata": {},
   "outputs": [
    {
     "name": "stdout",
     "output_type": "stream",
     "text": [
      "Using the default treebank \"en_ewt\" for language \"en\".\n",
      "Use device: cpu\n",
      "---\n",
      "Loading: tokenize\n",
      "With settings: \n",
      "{'model_path': '/home/huseyinalecakir/Security/source/PermissionDescriptionFidelity/utils/../../../data/models/en_ewt_models/en_ewt_tokenizer.pt', 'lang': 'en', 'shorthand': 'en_ewt', 'mode': 'predict'}\n",
      "---\n",
      "Loading: depparse\n",
      "With settings: \n",
      "{'model_path': '/home/huseyinalecakir/Security/source/PermissionDescriptionFidelity/utils/../../../data/models/en_ewt_models/en_ewt_parser.pt', 'pretrain_path': '/home/huseyinalecakir/Security/source/PermissionDescriptionFidelity/utils/../../../data/models/en_ewt_models/en_ewt.pretrain.pt', 'lang': 'en', 'shorthand': 'en_ewt', 'mode': 'predict'}\n",
      "Done loading processors!\n",
      "---\n"
     ]
    }
   ],
   "source": [
    "import os,sys,inspect\n",
    "current_dir = os.path.dirname(os.path.abspath(inspect.getfile(inspect.currentframe())))\n",
    "parent_dir = os.path.dirname(current_dir)\n",
    "sys.path.insert(0, parent_dir) \n",
    "\n",
    "from utils.io_utils import IOUtils\n",
    "from utils.nlp_utils import NLPUtils"
   ]
  },
  {
   "cell_type": "code",
   "execution_count": 29,
   "metadata": {},
   "outputs": [],
   "source": [
    "DIR_NAME = os.path.abspath('')\n",
    "IN_PATH = os.path.join(DIR_NAME, \"../../../data/play_store_data/record_audio_descriptions_ek1.csv\")\n",
    "SELECTED_PATH = os.path.join(DIR_NAME, \"../../../data/play_store_data/permissionlist_RecordAudio.txt\")\n",
    "OUT_PATH = os.path.join(DIR_NAME, \"../../../data/play_store_data/record_audio_selected_ek_1.xls\")\n",
    "VERSION1 = os.path.join(DIR_NAME, \"../../../data/play_store_data/record_audio_selected_2000 _first.csv\")"
   ]
  },
  {
   "cell_type": "code",
   "execution_count": 30,
   "metadata": {},
   "outputs": [],
   "source": [
    "import csv, time\n",
    "def clean_play_store_data(file_path):\n",
    "    \"\"\"TODO\"\"\"\n",
    "    number_of_apps = 0\n",
    "    data = {}\n",
    "    with open(file_path) as stream:\n",
    "        reader = csv.reader(stream)\n",
    "        next(reader)\n",
    "        start_time = time.time()\n",
    "        for row in reader:\n",
    "            number_of_apps += 1\n",
    "            app_id = row[0]\n",
    "            text = row[1]\n",
    "            data[app_id] = []\n",
    "            for sentence in NLPUtils.sentence_tokenization(text):\n",
    "                data[app_id].append(sentence)\n",
    "    return data"
   ]
  },
  {
   "cell_type": "code",
   "execution_count": 31,
   "metadata": {
    "scrolled": false
   },
   "outputs": [],
   "source": [
    "import re\n",
    "def remove_given_pattern(regex, data):\n",
    "    updated_data = {}\n",
    "    for  key in list(data.keys()):\n",
    "        new_lines = []\n",
    "        for line in data[key]:\n",
    "            updated = re.sub(regex, '', line)\n",
    "            new_lines.append(updated)\n",
    "        updated_data[key] = new_lines\n",
    "    return updated_data\n"
   ]
  },
  {
   "cell_type": "code",
   "execution_count": 37,
   "metadata": {},
   "outputs": [],
   "source": [
    "def select_given_apps(data, file_path):\n",
    "    selected_apps = {}\n",
    "    last_key = None\n",
    "    with open(file_path) as stream:\n",
    "        for line in stream:\n",
    "            line = line.rstrip()\n",
    "            if line.startswith(\"%%\"):\n",
    "                last_key = line.split(\"%%\")[1]\n",
    "                selected_apps[last_key] = {\"uses-permission\" : [], \"permission\" : []}\n",
    "            else:\n",
    "                if line:\n",
    "                    if line.startswith(\"uses-permission\"):\n",
    "                        selected_apps[last_key][\"uses-permission\"].append(line)\n",
    "                    elif line.startswith(\"permission\"):\n",
    "                        selected_apps[last_key][\"permission\"].append(line)\n",
    "    new_data = {}\n",
    "    for app_id in selected_apps:\n",
    "        if app_id in data:\n",
    "            new_data[app_id] = {}\n",
    "            new_data[app_id][\"data\"] = data[app_id]\n",
    "            new_data[app_id][\"permissions\"] = selected_apps[app_id]\n",
    "    return new_data"
   ]
  },
  {
   "cell_type": "code",
   "execution_count": 38,
   "metadata": {},
   "outputs": [],
   "source": [
    "def remove_emoji(data):\n",
    "    updated_data = {}\n",
    "    import demoji\n",
    "    demoji.download_codes()\n",
    "    for key in list(data.keys()):\n",
    "        new_lines = []\n",
    "        for line in data[key]:\n",
    "            updated = demoji.replace(line, repl=\"\").strip()\n",
    "            if updated:\n",
    "                new_lines.append(updated)\n",
    "        updated_data[key] = new_lines\n",
    "    return updated_data"
   ]
  },
  {
   "cell_type": "code",
   "execution_count": 50,
   "metadata": {},
   "outputs": [],
   "source": [
    "def write_excel(data, outfile, eliminated_apps={}, count=1000):\n",
    "    import xlwt\n",
    "    header = [\"Count\", \"Sentences\", \"Manually Marked\", \"uses-permission\", \"permission\"]\n",
    "    \n",
    "    style = xlwt.XFStyle()\n",
    "    # font\n",
    "    font = xlwt.Font()\n",
    "    font.bold = True\n",
    "    style.font = font\n",
    "    \n",
    "    workbook = xlwt.Workbook()\n",
    "    sheet = workbook.add_sheet('Sheet')\n",
    "    sheet.write(0, 0, \"Count\", style=style) \n",
    "    sheet.write(0, 1, \"Sentences\", style=style) \n",
    "    sheet.write(0, 2, \"Manually Marked\", style=style)\n",
    "    sheet.write(0, 3, \"uses-permission\", style=style)\n",
    "    sheet.write(0, 4, \"permission\", style=style)\n",
    "\n",
    "    row_number = 1\n",
    "    app_num = 1\n",
    "    for idx, app_id in zip(range(count), data):\n",
    "        if app_id not in eliminated_apps:\n",
    "            sheet.write(row_number, 0, \"#{}\".format(app_num), style=style)\n",
    "            sheet.write(row_number, 1, \"##{}\".format(app_id), style=style)\n",
    "            uses_permissions = \":\".join(data[app_id][\"permissions\"][\"uses-permission\"])\n",
    "            permissions = \":\".join(data[app_id][\"permissions\"][\"permission\"])\n",
    "            sheet.write(row_number, 3, \":{}\".format(uses_permissions))\n",
    "            sheet.write(row_number, 4, \":{}\".format(permissions))\n",
    "            row_number += 1\n",
    "            for sentence in data[app_id][\"data\"]:\n",
    "                sheet.write(row_number, 1, sentence)\n",
    "                row_number += 1\n",
    "            app_num += 1\n",
    "    workbook.save(outfile)\n"
   ]
  },
  {
   "cell_type": "code",
   "execution_count": 47,
   "metadata": {},
   "outputs": [],
   "source": [
    "def get_prev_versions(versions):\n",
    "    id_list = set()\n",
    "    with open(versions) as stream:\n",
    "        reader = csv.reader(stream)\n",
    "        next(reader)\n",
    "        for row in reader:\n",
    "            if row[1].startswith(\"##\"):\n",
    "                id_list.add(row[1].split(\"##\")[1])\n",
    "    return id_list"
   ]
  },
  {
   "cell_type": "code",
   "execution_count": 41,
   "metadata": {
    "scrolled": true
   },
   "outputs": [
    {
     "name": "stdout",
     "output_type": "stream",
     "text": [
      "\u001b[33mDownloading emoji data ...\u001b[0m\n",
      "\u001b[92m... OK\u001b[0m (Got response in 0.39 seconds)\n",
      "\u001b[33mWriting emoji data to /home/huseyinalecakir/.demoji/codes.json ...\u001b[0m\n",
      "\u001b[92m... OK\u001b[0m\n"
     ]
    }
   ],
   "source": [
    "regex = r\"^[^\\w\\!\\?\\\\\\(\\)\\[\\]\\“\\‘\\\"]+\"\n",
    "data = clean_play_store_data(IN_PATH)\n",
    "data = remove_given_pattern(regex, data)\n",
    "data = remove_emoji(data)\n",
    "data = select_given_apps(data, SELECTED_PATH)\n"
   ]
  },
  {
   "cell_type": "code",
   "execution_count": 48,
   "metadata": {},
   "outputs": [
    {
     "data": {
      "text/plain": [
       "159"
      ]
     },
     "execution_count": 48,
     "metadata": {},
     "output_type": "execute_result"
    }
   ],
   "source": [
    "len(data)"
   ]
  },
  {
   "cell_type": "code",
   "execution_count": 51,
   "metadata": {},
   "outputs": [],
   "source": [
    "prev_id_list = get_prev_versions(VERSION1)\n",
    "write_excel(data, OUT_PATH, prev_id_list, 1000)"
   ]
  },
  {
   "cell_type": "code",
   "execution_count": 36,
   "metadata": {},
   "outputs": [],
   "source": [
    "def word_counter(data, count=1000):\n",
    "    counter = 0\n",
    "    for idx, app_id in zip(range(count), data):\n",
    "        for sentence in data[app_id][\"data\"]:\n",
    "            counter += len(sentence.split(\" \"))\n",
    "            \n",
    "    return counter"
   ]
  },
  {
   "cell_type": "code",
   "execution_count": 37,
   "metadata": {},
   "outputs": [],
   "source": [
    "count = word_counter(data)"
   ]
  },
  {
   "cell_type": "code",
   "execution_count": 38,
   "metadata": {},
   "outputs": [
    {
     "name": "stdout",
     "output_type": "stream",
     "text": [
      "302059\n"
     ]
    }
   ],
   "source": [
    "print(count)"
   ]
  }
 ],
 "metadata": {
  "kernelspec": {
   "display_name": "Python 3",
   "language": "python",
   "name": "python3"
  },
  "language_info": {
   "codemirror_mode": {
    "name": "ipython",
    "version": 3
   },
   "file_extension": ".py",
   "mimetype": "text/x-python",
   "name": "python",
   "nbconvert_exporter": "python",
   "pygments_lexer": "ipython3",
   "version": "3.7.1"
  }
 },
 "nbformat": 4,
 "nbformat_minor": 2
}
