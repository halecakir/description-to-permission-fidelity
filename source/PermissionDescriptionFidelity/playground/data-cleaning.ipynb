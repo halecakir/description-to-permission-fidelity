{
 "cells": [
  {
   "cell_type": "markdown",
   "metadata": {},
   "source": [
    "import os,sys,inspect\n",
    "current_dir = os.path.dirname(os.path.abspath(inspect.getfile(inspect.currentframe())))\n",
    "parent_dir = os.path.dirname(current_dir)\n",
    "sys.path.insert(0, parent_dir) \n",
    "\n",
    "from utils.io_utils import IOUtils\n",
    "from utils.nlp_utils import NLPUtils"
   ]
  },
  {
   "cell_type": "code",
   "execution_count": 3,
   "metadata": {},
   "outputs": [],
   "source": [
    "DIR_NAME = os.path.abspath('')\n",
    "IN_PATH = os.path.join(DIR_NAME, \"../../../data/play_store_data/record_audio_descriptions.csv\")\n",
    "SELECTED_PATH = os.path.join(DIR_NAME, \"../../../data/play_store_data/permissionlist_RecordAudio.txt\")\n",
    "OUT_PATH = os.path.join(DIR_NAME, \"../../../data/play_store_data/record_audio_selected_2000.xls\")"
   ]
  },
  {
   "cell_type": "code",
   "execution_count": 10,
   "metadata": {},
   "outputs": [],
   "source": [
    "import csv, time\n",
    "def clean_play_store_data(file_path):\n",
    "    \"\"\"TODO\"\"\"\n",
    "    number_of_apps = 0\n",
    "    data = {}\n",
    "    with open(file_path) as stream:\n",
    "        reader = csv.reader(stream)\n",
    "        next(reader)\n",
    "        start_time = time.time()\n",
    "        for row in reader:\n",
    "            number_of_apps += 1\n",
    "            app_id = row[0]\n",
    "            text = row[1]\n",
    "            data[app_id] = []\n",
    "            for sentence in NLPUtils.sentence_tokenization(text):\n",
    "                data[app_id].append(sentence)\n",
    "    return data"
   ]
  },
  {
   "cell_type": "code",
   "execution_count": 11,
   "metadata": {
    "scrolled": false
   },
   "outputs": [],
   "source": [
    "import re\n",
    "def remove_given_pattern(regex, data):\n",
    "    updated_data = {}\n",
    "    for  key in list(data.keys()):\n",
    "        new_lines = []\n",
    "        for line in data[key]:\n",
    "            updated = re.sub(regex, '', line)\n",
    "            new_lines.append(updated)\n",
    "        updated_data[key] = new_lines\n",
    "    return updated_data\n"
   ]
  },
  {
   "cell_type": "code",
   "execution_count": 18,
   "metadata": {},
   "outputs": [],
   "source": [
    "def select_given_apps(data, file_path):\n",
    "    selected_apps = {}\n",
    "    last_key = None\n",
    "    with open(file_path) as stream:\n",
    "        for line in stream:\n",
    "            line = line.rstrip()\n",
    "            if line.startswith(\"%%\"):\n",
    "                last_key = line.split(\"%%\")[1]\n",
    "                selected_apps[last_key] = {\"uses-permission\" : [], \"permission\" : []}\n",
    "            else:\n",
    "                if line:\n",
    "                    if line.startswith(\"uses-permission\"):\n",
    "                        selected_apps[last_key][\"uses-permission\"].append(line)\n",
    "                    elif line.startswith(\"permission\"):\n",
    "                        selected_apps[last_key][\"permission\"].append(line)\n",
    "    new_data = {}\n",
    "    for app_id in selected_apps:\n",
    "        new_data[app_id] = {}\n",
    "        new_data[app_id][\"data\"] = data[app_id]\n",
    "        new_data[app_id][\"permissions\"] = selected_apps[app_id]\n",
    "    return new_data"
   ]
  },
  {
   "cell_type": "code",
   "execution_count": 23,
   "metadata": {},
   "outputs": [],
   "source": [
    "def remove_emoji(data):\n",
    "    updated_data = {}\n",
    "    import demoji\n",
    "    demoji.download_codes()\n",
    "    for key in list(data.keys()):\n",
    "        new_lines = []\n",
    "        for line in data[key]:\n",
    "            updated = demoji.replace(line, repl=\"\").strip()\n",
    "            if updated:\n",
    "                new_lines.append(updated)\n",
    "        updated_data[key] = new_lines\n",
    "    return updated_data"
   ]
  },
  {
   "cell_type": "code",
   "execution_count": 34,
   "metadata": {},
   "outputs": [],
   "source": [
    "def write_excel(data, outfile, count=1000):\n",
    "    import xlwt\n",
    "    header = [\"Count\", \"Sentences\", \"Manually Marked\", \"uses-permission\", \"permission\"]\n",
    "    \n",
    "    style = xlwt.XFStyle()\n",
    "    # font\n",
    "    font = xlwt.Font()\n",
    "    font.bold = True\n",
    "    style.font = font\n",
    "    \n",
    "    workbook = xlwt.Workbook()\n",
    "    sheet = workbook.add_sheet('Sheet')\n",
    "    sheet.write(0, 0, \"Count\", style=style) \n",
    "    sheet.write(0, 1, \"Sentences\", style=style) \n",
    "    sheet.write(0, 2, \"Manually Marked\", style=style)\n",
    "    sheet.write(0, 3, \"uses-permission\", style=style)\n",
    "    sheet.write(0, 4, \"permission\", style=style)\n",
    "\n",
    "    row_number = 1\n",
    "    for idx, app_id in zip(range(count), data):\n",
    "        sheet.write(row_number, 0, \"#{}\".format(idx+1), style=style)\n",
    "        sheet.write(row_number, 1, \"##{}\".format(app_id), style=style)\n",
    "        uses_permissions = \":\".join(data[app_id][\"permissions\"][\"uses-permission\"])\n",
    "        permissions = \":\".join(data[app_id][\"permissions\"][\"permission\"])\n",
    "        sheet.write(row_number, 3, \":{}\".format(uses_permissions))\n",
    "        sheet.write(row_number, 4, \":{}\".format(permissions))\n",
    "        row_number += 1\n",
    "        for sentence in data[app_id][\"data\"]:\n",
    "            sheet.write(row_number, 1, sentence)\n",
    "            row_number += 1\n",
    "    workbook.save(outfile)\n"
   ]
  },
  {
   "cell_type": "code",
   "execution_count": 27,
   "metadata": {
    "scrolled": true
   },
   "outputs": [
    {
     "name": "stdout",
     "output_type": "stream",
     "text": [
      "\u001b[33mDownloading emoji data ...\u001b[0m\n",
      "\u001b[92m... OK\u001b[0m (Got response in 0.41 seconds)\n",
      "\u001b[33mWriting emoji data to /home/huseyinalecakir/.demoji/codes.json ...\u001b[0m\n",
      "\u001b[92m... OK\u001b[0m\n"
     ]
    },
    {
     "ename": "AttributeError",
     "evalue": "'Workbook' object has no attribute 'add_format'",
     "output_type": "error",
     "traceback": [
      "\u001b[0;31m---------------------------------------------------------------------------\u001b[0m",
      "\u001b[0;31mAttributeError\u001b[0m                            Traceback (most recent call last)",
      "\u001b[0;32m<ipython-input-27-d730e313c2c2>\u001b[0m in \u001b[0;36m<module>\u001b[0;34m\u001b[0m\n\u001b[1;32m      4\u001b[0m \u001b[0mdata\u001b[0m \u001b[0;34m=\u001b[0m \u001b[0mremove_emoji\u001b[0m\u001b[0;34m(\u001b[0m\u001b[0mdata\u001b[0m\u001b[0;34m)\u001b[0m\u001b[0;34m\u001b[0m\u001b[0;34m\u001b[0m\u001b[0m\n\u001b[1;32m      5\u001b[0m \u001b[0mdata\u001b[0m \u001b[0;34m=\u001b[0m \u001b[0mselect_given_apps\u001b[0m\u001b[0;34m(\u001b[0m\u001b[0mdata\u001b[0m\u001b[0;34m,\u001b[0m \u001b[0mSELECTED_PATH\u001b[0m\u001b[0;34m)\u001b[0m\u001b[0;34m\u001b[0m\u001b[0;34m\u001b[0m\u001b[0m\n\u001b[0;32m----> 6\u001b[0;31m \u001b[0mwrite_excel\u001b[0m\u001b[0;34m(\u001b[0m\u001b[0mdata\u001b[0m\u001b[0;34m,\u001b[0m \u001b[0mOUT_PATH\u001b[0m\u001b[0;34m,\u001b[0m \u001b[0;36m1000\u001b[0m\u001b[0;34m)\u001b[0m\u001b[0;34m\u001b[0m\u001b[0;34m\u001b[0m\u001b[0m\n\u001b[0m",
      "\u001b[0;32m<ipython-input-26-09b98e5eed40>\u001b[0m in \u001b[0;36mwrite_excel\u001b[0;34m(data, outfile, count)\u001b[0m\n\u001b[1;32m     10\u001b[0m     \u001b[0msheet\u001b[0m\u001b[0;34m.\u001b[0m\u001b[0mwrite\u001b[0m\u001b[0;34m(\u001b[0m\u001b[0;36m0\u001b[0m\u001b[0;34m,\u001b[0m \u001b[0;36m4\u001b[0m\u001b[0;34m,\u001b[0m \u001b[0;34m\"permission\"\u001b[0m\u001b[0;34m)\u001b[0m\u001b[0;34m\u001b[0m\u001b[0;34m\u001b[0m\u001b[0m\n\u001b[1;32m     11\u001b[0m     \u001b[0mrow_number\u001b[0m \u001b[0;34m=\u001b[0m \u001b[0;36m1\u001b[0m\u001b[0;34m\u001b[0m\u001b[0;34m\u001b[0m\u001b[0m\n\u001b[0;32m---> 12\u001b[0;31m     \u001b[0mbold\u001b[0m \u001b[0;34m=\u001b[0m \u001b[0mworkbook\u001b[0m\u001b[0;34m.\u001b[0m\u001b[0madd_format\u001b[0m\u001b[0;34m(\u001b[0m\u001b[0;34m{\u001b[0m\u001b[0;34m'bold'\u001b[0m\u001b[0;34m:\u001b[0m \u001b[0;32mTrue\u001b[0m\u001b[0;34m}\u001b[0m\u001b[0;34m)\u001b[0m\u001b[0;34m\u001b[0m\u001b[0;34m\u001b[0m\u001b[0m\n\u001b[0m\u001b[1;32m     13\u001b[0m     \u001b[0;32mfor\u001b[0m \u001b[0midx\u001b[0m\u001b[0;34m,\u001b[0m \u001b[0mapp_id\u001b[0m \u001b[0;32min\u001b[0m \u001b[0mzip\u001b[0m\u001b[0;34m(\u001b[0m\u001b[0mrange\u001b[0m\u001b[0;34m(\u001b[0m\u001b[0mcount\u001b[0m\u001b[0;34m)\u001b[0m\u001b[0;34m,\u001b[0m \u001b[0mdata\u001b[0m\u001b[0;34m)\u001b[0m\u001b[0;34m:\u001b[0m\u001b[0;34m\u001b[0m\u001b[0;34m\u001b[0m\u001b[0m\n\u001b[1;32m     14\u001b[0m         \u001b[0msheet\u001b[0m\u001b[0;34m.\u001b[0m\u001b[0mwrite\u001b[0m\u001b[0;34m(\u001b[0m\u001b[0mrow_number\u001b[0m\u001b[0;34m,\u001b[0m \u001b[0;36m0\u001b[0m\u001b[0;34m,\u001b[0m \u001b[0;34m\"\"\u001b[0m\u001b[0;34m.\u001b[0m\u001b[0mformat\u001b[0m\u001b[0;34m(\u001b[0m\u001b[0midx\u001b[0m\u001b[0;34m+\u001b[0m\u001b[0;36m1\u001b[0m\u001b[0;34m)\u001b[0m\u001b[0;34m)\u001b[0m\u001b[0;34m\u001b[0m\u001b[0;34m\u001b[0m\u001b[0m\n",
      "\u001b[0;31mAttributeError\u001b[0m: 'Workbook' object has no attribute 'add_format'"
     ]
    }
   ],
   "source": [
    "regex = r\"^[^\\w\\!\\?\\\\\\(\\)\\[\\]\\“\\‘\\\"]+\"\n",
    "data = clean_play_store_data(IN_PATH)\n",
    "data = remove_given_pattern(regex, data)\n",
    "data = remove_emoji(data)\n",
    "data = select_given_apps(data, SELECTED_PATH)\n"
   ]
  },
  {
   "cell_type": "code",
   "execution_count": 35,
   "metadata": {},
   "outputs": [],
   "source": [
    "write_excel(data, OUT_PATH, 1000)"
   ]
  },
  {
   "cell_type": "code",
   "execution_count": 36,
   "metadata": {},
   "outputs": [],
   "source": [
    "def word_counter(data, count=1000):\n",
    "    counter = 0\n",
    "    for idx, app_id in zip(range(count), data):\n",
    "        for sentence in data[app_id][\"data\"]:\n",
    "            counter += len(sentence.split(\" \"))\n",
    "            \n",
    "    return counter"
   ]
  },
  {
   "cell_type": "code",
   "execution_count": 37,
   "metadata": {},
   "outputs": [],
   "source": [
    "count = word_counter(data)"
   ]
  },
  {
   "cell_type": "code",
   "execution_count": 38,
   "metadata": {},
   "outputs": [
    {
     "name": "stdout",
     "output_type": "stream",
     "text": [
      "302059\n"
     ]
    }
   ],
   "source": [
    "print(count)"
   ]
  }
 ],
 "metadata": {
  "kernelspec": {
   "display_name": "Python 3",
   "language": "python",
   "name": "python3"
  },
  "language_info": {
   "codemirror_mode": {
    "name": "ipython",
    "version": 3
   },
   "file_extension": ".py",
   "mimetype": "text/x-python",
   "name": "python",
   "nbconvert_exporter": "python",
   "pygments_lexer": "ipython3",
   "version": "3.7.1"
  }
 },
 "nbformat": 4,
 "nbformat_minor": 2
}
