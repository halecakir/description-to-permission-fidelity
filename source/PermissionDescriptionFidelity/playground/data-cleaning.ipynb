{
 "cells": [
  {
   "cell_type": "code",
   "execution_count": null,
   "metadata": {},
   "outputs": [
    {
     "name": "stdout",
     "output_type": "stream",
     "text": [
      "Using the default treebank \"en_ewt\" for language \"en\".\n",
      "Use device: cpu\n",
      "---\n",
      "Loading: tokenize\n",
      "With settings: \n",
      "{'model_path': '/home/huseyinalecakir/Security/source/PermissionDescriptionFidelity/utils/../../../data/models/en_ewt_models/en_ewt_tokenizer.pt', 'lang': 'en', 'shorthand': 'en_ewt', 'mode': 'predict'}\n",
      "---\n",
      "Loading: depparse\n",
      "With settings: \n",
      "{'model_path': '/home/huseyinalecakir/Security/source/PermissionDescriptionFidelity/utils/../../../data/models/en_ewt_models/en_ewt_parser.pt', 'pretrain_path': '/home/huseyinalecakir/Security/source/PermissionDescriptionFidelity/utils/../../../data/models/en_ewt_models/en_ewt.pretrain.pt', 'lang': 'en', 'shorthand': 'en_ewt', 'mode': 'predict'}\n"
     ]
    }
   ],
   "source": [
    "import os,sys,inspect\n",
    "current_dir = os.path.dirname(os.path.abspath(inspect.getfile(inspect.currentframe())))\n",
    "parent_dir = os.path.dirname(current_dir)\n",
    "sys.path.insert(0, parent_dir) \n",
    "\n",
    "from utils.io_utils import IOUtils\n",
    "from utils.nlp_utils import NLPUtils"
   ]
  },
  {
   "cell_type": "code",
   "execution_count": null,
   "metadata": {},
   "outputs": [],
   "source": [
    "DIR_NAME = os.path.abspath('')\n",
    "IN_PATH = os.path.join(DIR_NAME, \"../../../data/play_store_data/record_audio_descriptions.csv\")\n",
    "OUT_PATH = os.path.join(DIR_NAME, \"../../../data/play_store_data/app_ids_record_audio_processed.xls\")"
   ]
  },
  {
   "cell_type": "code",
   "execution_count": null,
   "metadata": {},
   "outputs": [],
   "source": [
    "import csv, time\n",
    "def clean_play_store_data(file_path):\n",
    "    \"\"\"TODO\"\"\"\n",
    "    number_of_apps = 0\n",
    "    data = {}\n",
    "    with open(file_path) as stream:\n",
    "        reader = csv.reader(stream)\n",
    "        next(reader)\n",
    "        start_time = time.time()\n",
    "        for row in reader:\n",
    "            number_of_apps += 1\n",
    "            app_id = row[0]\n",
    "            text = row[1]\n",
    "            data[app_id] = []\n",
    "            for sentence in NLPUtils.sentence_tokenization(text):\n",
    "                data[app_id].append(sentence)\n",
    "    return data"
   ]
  },
  {
   "cell_type": "code",
   "execution_count": null,
   "metadata": {
    "scrolled": false
   },
   "outputs": [],
   "source": [
    "import re\n",
    "def remove_given_pattern(regex, data):\n",
    "    updated_data = {}\n",
    "    for  key in list(data.keys()):\n",
    "        new_lines = []\n",
    "        for line in data[key]:\n",
    "            updated = re.sub(regex, '', line)\n",
    "            new_lines.append(updated)\n",
    "        updated_data[key] = new_lines\n",
    "    return updated_data\n"
   ]
  },
  {
   "cell_type": "code",
   "execution_count": null,
   "metadata": {},
   "outputs": [],
   "source": [
    "def remove_emoji(data):\n",
    "    updated_data = {}\n",
    "    import demoji\n",
    "    demoji.download_codes()\n",
    "    for key in list(data.keys()):\n",
    "        new_lines = []\n",
    "        for line in data[key]:\n",
    "            updated = demoji.replace(line, repl=\"\").strip()\n",
    "            if updated:\n",
    "                new_lines.append(updated)\n",
    "        updated_data[key] = new_lines\n",
    "    return updated_data"
   ]
  },
  {
   "cell_type": "code",
   "execution_count": null,
   "metadata": {},
   "outputs": [],
   "source": [
    "def write_excel(data, outfile, count=1000):\n",
    "    import xlwt\n",
    "    header = [\"Sentences\", \"Manually Marked\"]\n",
    "    workbook = xlwt.Workbook()\n",
    "    sheet = workbook.add_sheet('Sheet')\n",
    "    sheet.write(0, 0, \"Sentences\") \n",
    "    sheet.write(0, 1, \"Manually Marked\") \n",
    "    row_number = 1\n",
    "    for idx, app_id in zip(range(count), data):\n",
    "        sheet.write(row_number, 0, \"##{}\".format(app_id))\n",
    "        row_number += 1\n",
    "        for sentence in data[app_id]:\n",
    "            sheet.write(row_number, 0, sentence)\n",
    "            row_number += 1\n",
    "    workbook.save(outfile)\n"
   ]
  },
  {
   "cell_type": "code",
   "execution_count": null,
   "metadata": {
    "scrolled": true
   },
   "outputs": [],
   "source": [
    "regex = r\"^[^\\w\\!\\?\\\\\\(\\)\\[\\]\\“\\‘\\\"]+\"\n",
    "data = clean_play_store_data(IN_PATH)\n",
    "data = remove_given_pattern(regex, data)\n",
    "data = remove_emoji(data)\n",
    "write_excel(data, OUT_PATH, 1000)"
   ]
  }
 ],
 "metadata": {
  "kernelspec": {
   "display_name": "Python 3",
   "language": "python",
   "name": "python3"
  },
  "language_info": {
   "codemirror_mode": {
    "name": "ipython",
    "version": 3
   },
   "file_extension": ".py",
   "mimetype": "text/x-python",
   "name": "python",
   "nbconvert_exporter": "python",
   "pygments_lexer": "ipython3",
   "version": "3.7.1"
  }
 },
 "nbformat": 4,
 "nbformat_minor": 2
}
